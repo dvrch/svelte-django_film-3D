{
 "cells": [
  {
   "cell_type": "code",
   "execution_count": 224,
   "metadata": {},
   "outputs": [],
   "source": [
    "# Configurer l'environnement virtuel\n",
    "import sys\n",
    "sys.path.append(r\"C:\\Users\\dvrch\\Desktop\\CV 2024\\BLABLABLA\\svelte django_film\\backend\\venv-backend\\Lib\\site-packages\")\n"
   ]
  },
  {
   "cell_type": "code",
   "execution_count": 292,
   "metadata": {},
   "outputs": [],
   "source": [
    "from django.db import models\n",
    "from dv_config import TYPE_CHOICES  # Importer les choix de type\n",
    "import random\n",
    "import ctypes\n"
   ]
  },
  {
   "cell_type": "code",
   "execution_count": 357,
   "metadata": {},
   "outputs": [
    {
     "name": "stdout",
     "output_type": "stream",
     "text": [
      "garden\n",
      "desk\n",
      "icosahedron\n"
     ]
    }
   ],
   "source": [
    "class Geometry(models.Model):\n",
    "    \n",
    "    file_py = os.path.join('C:\\\\Users\\\\dvrch\\\\Desktop\\\\CV 2024\\\\BLABLABLA\\\\svelte django_film\\\\backend\\\\films_backend\\\\Base_threlte_dv\\\\type.py')\n",
    "\n",
    "    new_type = random.choice([choice[0] for choice in TYPE_CHOICES])\n",
    "    # Écrire le fichier type.py\n",
    "    with open(file_py, 'w', encoding='utf-8') as file:\n",
    "        # file.seek(0)\n",
    "        file.truncate()\n",
    "        file.write(f\"type_py = '{new_type}'\\n\")\n",
    "\n",
    "    type = models.CharField(max_length=20, choices=TYPE_CHOICES, \n",
    "    default=type_py)  # Correction de l'attribut pour utiliser type_py directement\n",
    "    name = models.CharField(max_length=45, unique=True, blank=True, \n",
    "                            default=type_py)  # Correction de l'attribut pour utiliser type_py directement\n",
    "    position = models.JSONField(default=dict)  # Utilisation d'un callable pour JSONField\n",
    "    rotation = models.JSONField(default={\"x\": 0.0, \"y\": 0.0, \"z\": 0.0})  # Utilisation d'un dictionnaire pour JSONField\n",
    "    color = models.CharField(max_length=7, blank=True, default='#000000')  # Couleur\n",
    "\n",
    "    def get_random_color():\n",
    "        return Geometry.color\n",
    "    \n",
    "    def clean(self):\n",
    "        if hasattr(self, 'color') and self.color and not self.color.startswith('#'):\n",
    "            self.color = '#' + self.color    \n",
    "\n",
    "    def format_position(self, x, y, z):\n",
    "        self.position = {\"x\": x, \"y\": y, \"z\": z}  # Utilisation d'un dictionnaire pour JSONField\n",
    "\n",
    "    def format_rotation(self, x, y, z):\n",
    "        self.rotation = {\"x\": x, \"y\": y, \"z\": z}  # Utilisation d'un dictionnaire pour JSONField\n",
    "\n"
   ]
  },
  {
   "cell_type": "code",
   "execution_count": null,
   "metadata": {},
   "outputs": [],
   "source": [
    "    def get_default_type():\n",
    "        return random.choice([choice[0] for choice in TYPE_CHOICES])\n",
    "        \n",
    "    lo = [1,2,3]\n",
    "    default_value = get_default_type()\n",
    "    default_value = get_default_type\n",
    "    type = models.CharField(max_length=20, choices=TYPE_CHOICES, default=default_value) \n",
    "    lo.append(type.default())\n",
    "    print(lo[-1])\n",
    "    type = models.CharField(max_length=20, choices=TYPE_CHOICES, default=lo[-1])  \n",
    "\n",
    "    name = models.CharField(max_length=45, unique=True, blank=True, default= lo[-1], editable=True)\n",
    "    position = models.JSONField(max_length=45, default=\"0.0\\n0.0\\n0.0\")\n",
    "    rotation = models.JSONField(max_length=45, default=\"0.0\\n0.0\\n0.0\")\n",
    "\n",
    "    print(type.get_default())  # Affichera la valeur comme \"garden\" ou \"box\"\n",
    "    print(name.get_default())  # Affichera la valeur comme \"garden\" ou \"box\""
   ]
  },
  {
   "cell_type": "code",
   "execution_count": null,
   "metadata": {},
   "outputs": [],
   "source": [
    "\n",
    "from django.db import models\n",
    "from dv_config import TYPE_CHOICES  # Importer les choix de type\n",
    "import random\n",
    "\n",
    "def get_default_type():\n",
    "    return random.choice([choice[0] for choice in TYPE_CHOICES])\n",
    "lo=[1,2,3]\n",
    "default_value = get_default_type()\n",
    "default_value = get_default_type\n",
    "type = models.CharField(max_length=20, choices=TYPE_CHOICES, default=default_value) \n",
    "lo.append(type.default())\n",
    "print(lo[-1])\n",
    "type = models.CharField(max_length=20, choices=TYPE_CHOICES, default=lo[-1])  \n",
    "\n",
    "name = models.CharField(max_length=45, unique=True, blank=True, default= lo[-1], editable=True)\n",
    "position = models.JSONField(max_length=45, default=\"0.0\\n0.0\\n0.0\")\n",
    "rotation = models.JSONField(max_length=45, default=\"0.0\\n0.0\\n0.0\")\n",
    "\n",
    "color = models.CharField(max_length=7, default=lambda: f'#{random.randint(0, 0xFFFFFF):06x}')  # Couleur par défaut aléatoire\n",
    "\n",
    "\n",
    "print(type.get_default())  # Affichera la valeur comme \"garden\" ou \"box\"\n",
    "print(name.get_default())  # Affichera la valeur comme \"garden\" ou \"box\"\n"
   ]
  },
  {
   "cell_type": "code",
   "execution_count": null,
   "metadata": {},
   "outputs": [],
   "source": [
    "# "
   ]
  },
  {
   "cell_type": "code",
   "execution_count": 92,
   "metadata": {},
   "outputs": [
    {
     "name": "stdout",
     "output_type": "stream",
     "text": [
      "<function Geometry.<lambda> at 0x0000018C361C2B60>\n",
      "['']\n",
      "None\n"
     ]
    },
    {
     "ename": "TypeError",
     "evalue": "'NoneType' object is not subscriptable",
     "output_type": "error",
     "traceback": [
      "\u001b[1;31m---------------------------------------------------------------------------\u001b[0m",
      "\u001b[1;31mTypeError\u001b[0m                                 Traceback (most recent call last)",
      "Cell \u001b[1;32mIn[92], line 1\u001b[0m\n\u001b[1;32m----> 1\u001b[0m \u001b[38;5;28;43;01mclass\u001b[39;49;00m\u001b[43m \u001b[49m\u001b[38;5;21;43;01mGeometry\u001b[39;49;00m\u001b[43m(\u001b[49m\u001b[43mmodels\u001b[49m\u001b[38;5;241;43m.\u001b[39;49m\u001b[43mModel\u001b[49m\u001b[43m)\u001b[49m\u001b[43m:\u001b[49m\n\u001b[0;32m      2\u001b[0m \n\u001b[0;32m      3\u001b[0m \n\u001b[0;32m      4\u001b[0m \u001b[43m    \u001b[49m\u001b[38;5;66;43;03m# default=lambda: random.choice([choice[0] for choice in TYPE_CHOICES])\u001b[39;49;00m\n\u001b[0;32m      5\u001b[0m \u001b[43m    \u001b[49m\u001b[38;5;66;43;03m# default = [default()]\u001b[39;49;00m\n\u001b[0;32m      8\u001b[0m \u001b[43m    \u001b[49m\u001b[43mtype_stock\u001b[49m\u001b[43m \u001b[49m\u001b[38;5;241;43m=\u001b[39;49m\u001b[43m \u001b[49m\u001b[38;5;28;43;01mlambda\u001b[39;49;00m\u001b[43m:\u001b[49m\u001b[43m \u001b[49m\u001b[43mrandom\u001b[49m\u001b[38;5;241;43m.\u001b[39;49m\u001b[43mchoice\u001b[49m\u001b[43m(\u001b[49m\u001b[43m[\u001b[49m\u001b[43mchoice\u001b[49m\u001b[43m[\u001b[49m\u001b[38;5;241;43m0\u001b[39;49m\u001b[43m]\u001b[49m\u001b[43m \u001b[49m\u001b[38;5;28;43;01mfor\u001b[39;49;00m\u001b[43m \u001b[49m\u001b[43mchoice\u001b[49m\u001b[43m \u001b[49m\u001b[38;5;129;43;01min\u001b[39;49;00m\u001b[43m \u001b[49m\u001b[43mTYPE_CHOICES\u001b[49m\u001b[43m]\u001b[49m\u001b[43m)\u001b[49m\n\u001b[0;32m      9\u001b[0m \u001b[43m    \u001b[49m\u001b[38;5;28;43mprint\u001b[39;49m\u001b[43m(\u001b[49m\u001b[43mtype_stock\u001b[49m\u001b[43m)\u001b[49m\n",
      "Cell \u001b[1;32mIn[92], line 15\u001b[0m, in \u001b[0;36mGeometry\u001b[1;34m()\u001b[0m\n\u001b[0;32m     12\u001b[0m l_type_stock \u001b[38;5;241m=\u001b[39m l_type_stock\u001b[38;5;241m.\u001b[39mappend(type_stock)\n\u001b[0;32m     13\u001b[0m \u001b[38;5;28mprint\u001b[39m(l_type_stock)\n\u001b[1;32m---> 15\u001b[0m name \u001b[38;5;241m=\u001b[39m models\u001b[38;5;241m.\u001b[39mCharField(max_length\u001b[38;5;241m=\u001b[39m\u001b[38;5;241m45\u001b[39m, unique\u001b[38;5;241m=\u001b[39m\u001b[38;5;28;01mTrue\u001b[39;00m, blank\u001b[38;5;241m=\u001b[39m\u001b[38;5;28;01mTrue\u001b[39;00m, default\u001b[38;5;241m=\u001b[39m\u001b[43ml_type_stock\u001b[49m\u001b[43m[\u001b[49m\u001b[38;5;241;43m-\u001b[39;49m\u001b[38;5;241;43m1\u001b[39;49m\u001b[43m]\u001b[49m, editable\u001b[38;5;241m=\u001b[39m\u001b[38;5;28;01mTrue\u001b[39;00m)\n\u001b[0;32m     16\u001b[0m \u001b[38;5;28mprint\u001b[39m(name)\n\u001b[0;32m     17\u001b[0m \u001b[38;5;28mtype\u001b[39m \u001b[38;5;241m=\u001b[39m models\u001b[38;5;241m.\u001b[39mCharField(max_length\u001b[38;5;241m=\u001b[39m\u001b[38;5;241m20\u001b[39m, choices\u001b[38;5;241m=\u001b[39mTYPE_CHOICES, default\u001b[38;5;241m=\u001b[39ml_type_stock[\u001b[38;5;241m-\u001b[39m\u001b[38;5;241m1\u001b[39m])  \u001b[38;5;66;03m# Type de géométrie\u001b[39;00m\n",
      "\u001b[1;31mTypeError\u001b[0m: 'NoneType' object is not subscriptable"
     ]
    }
   ],
   "source": [
    "class Geometry(models.Model):\n",
    "\n",
    "\n",
    "    # default=lambda: random.choice([choice[0] for choice in TYPE_CHOICES])\n",
    "    # default = [default()]\n",
    "\n",
    "    \n",
    "    type_stock = lambda: random.choice([choice[0] for choice in TYPE_CHOICES])\n",
    "    print(type_stock)\n",
    "    l_type_stock = [\"\"]\n",
    "    print(l_type_stock)\n",
    "    l_type_stock = l_type_stock.append(type_stock)\n",
    "    print(l_type_stock)\n",
    "\n",
    "    name = models.CharField(max_length=45, unique=True, blank=True, default=l_type_stock[-1], editable=True)\n",
    "    print(name)\n",
    "    type = models.CharField(max_length=20, choices=TYPE_CHOICES, default=l_type_stock[-1])  # Type de géométrie\n",
    "    print(type)\n",
    "    position = models.JSONField(max_length= 45, default=\"0.0\\n0.0\\n0.0\") \n",
    "    rotation = models.JSONField(max_length= 45, default=\"0.0\\n0.0\\n0.0\") \n",
    "\n",
    "    color = models.CharField(max_length=7, default=lambda: f'#{random.randint(0, 0xFFFFFF):06x}')  # Couleur par défaut aléatoire\n",
    "\n",
    "    def __str__(self):\n",
    "        return self.name \n",
    "\n",
    "    def clean(self):\n",
    "        if self.color and not self.color.startswith('#'):\n",
    "            self.color = '#' + self.color    \n",
    "\n",
    "    def format_position(self, x, y, z):\n",
    "        self.position = f\"{x}\\n{y}\\n{z}\"\n",
    "\n",
    "    def format_rotation(self, x, y, z):\n",
    "        self.rotation = f\"{x}\\n{y}\\n{z}\""
   ]
  }
 ],
 "metadata": {
  "kernelspec": {
   "display_name": "Python 3",
   "language": "python",
   "name": "python3"
  },
  "language_info": {
   "codemirror_mode": {
    "name": "ipython",
    "version": 3
   },
   "file_extension": ".py",
   "mimetype": "text/x-python",
   "name": "python",
   "nbconvert_exporter": "python",
   "pygments_lexer": "ipython3",
   "version": "3.12.3"
  }
 },
 "nbformat": 4,
 "nbformat_minor": 2
}
